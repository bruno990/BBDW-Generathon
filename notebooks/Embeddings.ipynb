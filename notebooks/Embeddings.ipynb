{
 "cells": [
  {
   "cell_type": "markdown",
   "id": "8708ab77-3589-4714-a854-699688b19c41",
   "metadata": {},
   "source": [
    "# Utilização de text embedding no contexto de prompt de IA Generativa\n",
    "\n",
    "O projeto realizado para participação no [BBDW - Generathon](https://bbdw.com.br/generathon/) consiste na criação de embeddings de texto para serem utilizadas no contexto do chatbot utilizando VertexAI\n",
    "\n",
    "Conforme definição que consta na [documentação do Google] (https://cloud.google.com/vertex-ai/docs/generative-ai/embeddings/get-text-embeddings?hl=pt-br):\n",
    "\n",
    "*Um embedding de texto é uma representação vetorial de texto e é usado de várias maneiras para encontrar itens semelhantes*\n",
    "*Alguns casos de uso comuns para incorporações de texto incluem:*\n",
    "\n",
    "+ Pesquisa semântica: texto de pesquisa classificado por semelhança semântica.\n",
    "+ Classificação: retorna a classe de itens com atributos de texto semelhantes ao texto fornecido.\n",
    "+ Clustering: itens de cluster com atributos de texto semelhantes ao texto fornecido.\n",
    "+ Detecção de outlier: retorna itens em que os atributos de texto estão menos relacionados ao texto fornecido.\n",
    "+ Interface de conversa: agrupa grupos de frases que podem levar a respostas semelhantes, como em um espaço de incorporação no nível da conversa.\n",
    "\n",
    "Dessa forma, vamos criar uma representação vetorial com o conteúdo do [Manual de Crédito Rural](https://www3.bcb.gov.br/mcr). Assim, quando o usuário interagir com o chatbot, faremos a busca dessa query nos índices, passando o resultado como contexto para o modelo de chat conversacional da VertexAI.\n",
    "\n",
    "Para armazenar os embeddings, utilizaremos o [Pinecode](https://www.pinecone.io/). No site, consta a seguinte definição sobre o que é um banco de dados vetorial:\n",
    "\n",
    "*Um banco de dados vetorial é um tipo de banco de dados que indexa e armazena incorporações de vetores para recuperação rápida e pesquisa de similaridade*"
   ]
  },
  {
   "cell_type": "code",
   "execution_count": null,
   "id": "67de948d-aa58-4127-9db9-fc54033f8238",
   "metadata": {},
   "outputs": [],
   "source": [
    "import os\n",
    "\n",
    "import pinecone\n",
    "\n",
    "from langchain.document_loaders import pdf\n",
    "from langchain.text_splitter import RecursiveCharacterTextSplitter\n",
    "from langchain.embeddings import VertexAIEmbeddings\n",
    "from langchain.vectorstores import Pinecone"
   ]
  },
  {
   "cell_type": "code",
   "execution_count": null,
   "id": "e86d9b82-ddb3-4071-811f-b4e651a236c2",
   "metadata": {},
   "outputs": [],
   "source": [
    "pinecone.init(\n",
    "    api_key=os.environ[\"PINECONE_API_KEY\"], environment=os.environ[\"PINECONE_ENV\"]\n",
    ")"
   ]
  },
  {
   "cell_type": "code",
   "execution_count": null,
   "id": "040bda12-cad7-4120-acb8-90a540450104",
   "metadata": {},
   "outputs": [],
   "source": [
    "# Leitura do documento que será utilizado como exemplo\n",
    "documento = pdf.PyPDFLoader('../docs/mcr-cap_operacoes.pdf')"
   ]
  },
  {
   "cell_type": "code",
   "execution_count": null,
   "id": "e2ed2980-15f2-4590-922b-3ef118317092",
   "metadata": {},
   "outputs": [],
   "source": [
    "#Split do documento\n",
    "\n",
    "chunk_size=500\n",
    "chunk_overlap=20\n",
    "\n",
    "text_splitter = RecursiveCharacterTextSplitter(chunk_size=chunk_size, chunk_overlap=chunk_overlap)\n",
    "\n",
    "docs = text_splitter.split_documents(documento.load())"
   ]
  },
  {
   "cell_type": "code",
   "execution_count": null,
   "id": "1f4fd8d7-1afe-4a1c-a041-2d1098d50d91",
   "metadata": {},
   "outputs": [],
   "source": [
    "#Criação dos embeddings e armazenamento no pinecode\n",
    "\n",
    "index_name = \"bbdw\"\n",
    "\n",
    "embeddings = VertexAIEmbeddings(model_name=\"textembedding-gecko\")\n",
    "\n",
    "index = Pinecone.from_documents(docs, embeddings, index_name=index_name)"
   ]
  },
  {
   "cell_type": "code",
   "execution_count": null,
   "id": "aeda4d65-5e62-4e7c-8246-cb86ff3b2e0f",
   "metadata": {},
   "outputs": [],
   "source": []
  }
 ],
 "metadata": {
  "kernelspec": {
   "display_name": "venv-bbdw",
   "language": "python",
   "name": "venv-bbdw"
  },
  "language_info": {
   "codemirror_mode": {
    "name": "ipython",
    "version": 3
   },
   "file_extension": ".py",
   "mimetype": "text/x-python",
   "name": "python",
   "nbconvert_exporter": "python",
   "pygments_lexer": "ipython3",
   "version": "3.8.13"
  }
 },
 "nbformat": 4,
 "nbformat_minor": 5
}
